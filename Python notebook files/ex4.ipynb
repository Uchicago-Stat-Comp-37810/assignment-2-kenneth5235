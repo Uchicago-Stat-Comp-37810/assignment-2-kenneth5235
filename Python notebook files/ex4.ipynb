{
 "cells": [
  {
   "cell_type": "code",
   "execution_count": 5,
   "metadata": {},
   "outputs": [
    {
     "name": "stdout",
     "output_type": "stream",
     "text": [
      "There are 100 cars available.\n",
      "There are only 30 drivers available.\n",
      "There will be 70 empty cars today.\n",
      "We can transport 120 people today.\n",
      "We have 90 to carpool today.\n",
      "We need to put about 3.0 in each car.\n"
     ]
    }
   ],
   "source": [
    "# There are 100 cars\n",
    "cars = 100\n",
    "# There is space for 4 passengers in each car\n",
    "space_in_a_car = 4\n",
    "# There are 30 drivers\n",
    "drivers = 30\n",
    "# There are 90 passengers\n",
    "passengers = 90\n",
    "# The amount of cars that are not used is the total amount of cars minus the amount of drivers\n",
    "cars_not_driven = cars - drivers\n",
    "# The amount of cars that are used is equal to the amount of drivers available\n",
    "cars_driven = drivers\n",
    "# The amount of passengers that can be transported is the amount of cars used times the space in each car\n",
    "carpool_capacity = cars_driven * space_in_a_car\n",
    "# The average amount of passengers per car is the total amount of passengers devided by the amount of cars used\n",
    "average_passengers_per_car = passengers / cars_driven\n",
    "\n",
    "\n",
    "print(\"There are\", cars, \"cars available.\")\n",
    "print(\"There are only\", drivers, \"drivers available.\")\n",
    "print(\"There will be\", cars_not_driven, \"empty cars today.\")\n",
    "print(\"We can transport\", carpool_capacity, \"people today.\")\n",
    "print(\"We have\", passengers, \"to carpool today.\")\n",
    "print(\"We need to put about\", average_passengers_per_car,\n",
    "      \"in each car.\")\n",
    "\n",
    "# Study drills\n",
    "\n",
    "# The variable car_pool_capacity is not defined\n",
    "# However the variable carpool_capacity is defined on line 7\n",
    "\n",
    "# 4 instead of 4.0 would have worked as well\n",
    "# It just means that both space_in_a_car and carpool_capacity will not be floating numbers"
   ]
  }
 ],
 "metadata": {
  "kernelspec": {
   "display_name": "Python 3",
   "language": "python",
   "name": "python3"
  },
  "language_info": {
   "codemirror_mode": {
    "name": "ipython",
    "version": 3
   },
   "file_extension": ".py",
   "mimetype": "text/x-python",
   "name": "python",
   "nbconvert_exporter": "python",
   "pygments_lexer": "ipython3",
   "version": "3.7.0"
  }
 },
 "nbformat": 4,
 "nbformat_minor": 2
}
